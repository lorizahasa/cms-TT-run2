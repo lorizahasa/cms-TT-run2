{
 "cells": [
  {
   "cell_type": "code",
   "execution_count": null,
   "metadata": {},
   "outputs": [],
   "source": [
    "#Useful when the notebook is running in tmux\n",
    "import socket\n",
    "hostname = socket.gethostname()\n",
    "print(hostname)\n",
    "from VarInfo import GetVarInfo"
   ]
  },
  {
   "cell_type": "code",
   "execution_count": null,
   "metadata": {},
   "outputs": [],
   "source": [
    "import ROOT\n",
    "from ROOT import TMVA"
   ]
  },
  {
   "cell_type": "code",
   "execution_count": null,
   "metadata": {},
   "outputs": [],
   "source": [
    "import os\n",
    "import sys\n",
    "sys.path.insert(0, \"%s/%s\"%(os.getcwd(), \"sample\"))\n",
    "from SampleInfo import getSamples"
   ]
  },
  {
   "cell_type": "code",
   "execution_count": null,
   "metadata": {},
   "outputs": [],
   "source": []
  },
  {
   "cell_type": "code",
   "execution_count": null,
   "metadata": {},
   "outputs": [],
   "source": [
    "#inputFileS = ROOT.TFile(\"sig_1000.root\")\n",
    "mass    = \"M800\"\n",
    "method  = \"BDT\"\n",
    "package = \"TMVA\"\n",
    "\n",
    "dirNtuple = \"root://cmseos.fnal.gov//store/user/rverma/Output/cms-TT-run2/Ntuple_Skim/\"\n",
    "dirFile = \"2016/Semilep/JetBase/\"\n",
    "sigFile = \"Semilep_JetBase__TstarTstarToTgammaTgluon_%s_2016_Ntuple.root\"%mass\n",
    "inputFileS = ROOT.TFile.Open(\"%s/%s/%s\"%(dirNtuple, dirFile, sigFile))\n",
    "sig = inputFileS.Get(\"AnalysisTree\")\n",
    "\n",
    "allSamples = getSamples(\"2016\", \"Semilep\", \"JetBase\")\n",
    "\n",
    "bkgList = []\n",
    "for s in allSamples.keys():\n",
    "    if \"TT_tytg\" not in s and \"Data\" not in s:\n",
    "        bkgs = allSamples[s]\n",
    "        print(\"%s, files: %s\"%(s, len(bkgs)))\n",
    "        for b in bkgs:\n",
    "            bkgList.append(b)\n",
    "bkgList = [\"Semilep_JetBase__TTGamma_SingleLept_2016_Ntuple.root\"]\n",
    "print(\"\\nTotal files from all bkgs = %s\"%len(bkgList))\n",
    "\n",
    "bkg = ROOT.TChain(\"AnalysisTree\")\n",
    "for b in bkgList:\n",
    "    bkg.Add(\"%s/%s/%s\"%(dirNtuple, dirFile, b))\n",
    "print(bkg.GetEntries())"
   ]
  },
  {
   "cell_type": "code",
   "execution_count": null,
   "metadata": {},
   "outputs": [],
   "source": [
    "loader = ROOT.TMVA.DataLoader(\"dataset\")\n",
    "sigWeight = 1.0\n",
    "bkgWeight = 1.0\n",
    "loader.AddSignalTree(sig, sigWeight)\n",
    "loader.AddBackgroundTree(bkg, bkgWeight)\n",
    "\n",
    "varDict = GetVarInfo()\n",
    "print(\"\\nTotal vars = %s \\n\"%len(varDict.keys()))\n",
    "for var in varDict.keys():\n",
    "    print(varDict[var][0])\n",
    "    loader.AddVariable(varDict[var][0], 'F')\n",
    "\n",
    "loader.SetSignalWeightExpression(\"Weight_lumi\")\n",
    "loader.SetBackgroundWeightExpression(\"Weight_lumi\")\n",
    "\n",
    "#evtSel = ROOT.TCut(\"pt_j1 > 50\")\n",
    "evtSel = ROOT.TCut(\"Event_pass_presel_mu &&((Jet_size>=5 && FatJet_size==0) || (Jet_size>=2 && FatJet_size==1))  && Jet_b_size >=1 && Photon_size==1 && Photon_et[0] > 100\")\n",
    "\n",
    "#loader.PrepareTrainingAndTestTree(evtSel,'SplitMode=Random:NormMode=NumEvents:!V')\n",
    "\n",
    "loader.PrepareTrainingAndTestTree(evtSel,\"SplitMode=Random:!V\")"
   ]
  },
  {
   "cell_type": "code",
   "execution_count": null,
   "metadata": {},
   "outputs": [],
   "source": []
  },
  {
   "cell_type": "code",
   "execution_count": null,
   "metadata": {},
   "outputs": [],
   "source": []
  },
  {
   "cell_type": "code",
   "execution_count": null,
   "metadata": {},
   "outputs": [],
   "source": [
    "from os import environ\n",
    "environ['KERAS_BACKEND'] = 'theano'\n",
    "environ['THEANO_FLAGS'] = 'gcc.cxxflags=-march=corei7'\n",
    "import ROOT\n",
    "from keras.models import Sequential\n",
    "from keras.layers import Dense, Activation, AlphaDropout,Conv1D,MaxPooling1D, Flatten, Reshape,Dropout,LSTM\n",
    "from keras.layers.normalization import BatchNormalization\n",
    "from keras.optimizers import Adam, SGD, Nadam,Adadelta,RMSprop\n",
    "from keras.regularizers import l2"
   ]
  },
  {
   "cell_type": "code",
   "execution_count": null,
   "metadata": {},
   "outputs": [],
   "source": []
  },
  {
   "cell_type": "code",
   "execution_count": null,
   "metadata": {},
   "outputs": [],
   "source": [
    "#https://github.com/ViniciusMikuni/ttbb-analysis/blob/5d48e5e03bdd0ca162d3dd058f4ee02ef33a8460/python/MVA_cfg.py\n",
    "batchs = 64\n",
    "layoutString = \"Layout=RELU|64,RELU|64,RELU|64,SOFTSIGN\"\n",
    "training0 =  \"LearningRate=1e-3,Momentum=0.0,Repetitions=1,ConvergenceSteps=20,BatchSize=256,TestRepetitions=10,Regularization=L2,Multithreading=True,DropConfig=0.1,DropRepetitions=1\"\n",
    "#training1 = \"LearningRate=1e-2,Momentum=0.0,Repetitions=1,ConvergenceSteps=10,BatchSize=256,TestRepetitions=7,Regularization=L2,Multithreading=True\"\n",
    "\n",
    "trainingStrategyString  = \"TrainingStrategy=\"\n",
    "trainingStrategyString += training0\n",
    "#trainingStrategyString += training0 + \"|\" + training1\n",
    "\n",
    "nnOptions = \"!H:V:ErrorStrategy=CROSSENTROPY:VarTransform=None:WeightInitialization=XAVIERUNIFORM\"\n",
    "nnOptions += \":\" + layoutString + \":\" +  trainingStrategyString + \":Architecture=CPU\"\n",
    "\n",
    "methodList = {\"BDTP\":[ROOT.TMVA.Types.kBDT,\":\".join([\"!H\",\"!V\",\"NTrees=850\",\"MaxDepth=5\",\"BoostType=Grad\",\"Shrinkage=0.01\",\"UseBaggedBoost\",\"BaggedSampleFraction=0.50\",\"SeparationType=GiniIndex\",\"nCuts=50\"])],\n",
    "              \"BDTCW\":[ROOT.TMVA.Types.kBDT,\":\".join([\"!H\",\"!V\",\"NTrees=500\",\"MaxDepth=8\",\"BoostType=Grad\",\"Shrinkage=0.01\",\"UseBaggedBoost\",\"BaggedSampleFraction=0.50\",\"SeparationType=GiniIndex\",\"nCuts=50\"])],\n",
    "              #\"BDTFish\":[ROOT.TMVA.Types.kBDT,\":\".join([\"!H\",\"!V\",\"NTrees=500\",\"MaxDepth=4\",\"BoostType=Grad\",\"Shrinkage=0.01\",\"UseFisherCuts\",\"MinLinCorrForFisher=0.5\",\"UseBaggedBoost\",\"BaggedSampleFraction=0.50\",\"SeparationType=GiniIndex\",\"nCuts=50\"])],\n",
    "              \"LH\":[ROOT.TMVA.Types.kLikelihood,\"H:!V:TransformOutput:PDFInterpol=Spline2:NSmoothSig[0]=20:NSmoothBkg[0]=20:NSmoothBkg[1]=10:NSmooth=1:NAvEvtPerBin=50\"],\n",
    "              \"Cuts\":[ROOT.TMVA.Types.kCuts,\"H:!V:PopSize=500:Steps=50\"],\n",
    "              \"MLP\": [ROOT.TMVA.Types.kMLP, \"H:!V:NeuronType=tanh:VarTransform=N:NCycles=600:HiddenLayers=N+5:TestRate=5:!UseRegulator\"],\n",
    "              \"SVM\": [ROOT.TMVA.Types.kSVM,\"VarTransform=Norm\"],\n",
    "              \"BDTA\": [ROOT.TMVA.Types.kBDT, \"!H:!V:NTrees=850:MaxDepth=6:BoostType=AdaBoost:AdaBoostBeta=0.05:UseBaggedBoost:BaggedSampleFraction=0.5:SeparationType=GiniIndex:nCuts=30\"],\n",
    "              \"DNN\": [ROOT.TMVA.Types.kDNN, nnOptions],\n",
    "              #\"PyDNN\":[ROOT.TMVA.Types.kPyKeras,\":\".join([\"H\",\"V\",\"NumEpochs=700\",\"TriesEarlyStopping=20\",\"BatchSize=\"+str(batchs)])],\n",
    "              \"SVM\" : [ROOT.TMVA.Types.kSVM, \"VarTransform=Norm\"],\n",
    "              #\"Fish\" : [ROOT.TMVA.Types.kFisher, \"H:!V:Fisher:VarTransform=None:CreateMVAPdfs:PDFInterpolMVAPdf=Spline2:NbinsMVAPdf=50:NsmoothMVAPdf=10\" ],\n",
    "              #\"FishG\" : [ROOT.TMVA.Types.kFisher, \"H:!V:Fisher:VarTransform=Gauss:CreateMVAPdfs:PDFInterpolMVAPdf=Spline2:Boost_Num=20:Boost_Transform=log:Boost_Type=AdaBoost:Boost_AdaBoostBeta=0.2:!Boost_DetailedMonitoring\" ],\n",
    "\n",
    "              \"PDEFoam\": [ROOT.TMVA.Types.kPDEFoam, \"!H:!V::SigBgSeparate=F:MaxDepth=4:UseYesNoCell=T:DTLogic=MisClassificationError:FillFoamWithOrigWeights=F:TailCut=0:nActiveCells=500:nBin=20:Nmin=400:Compress=T\"],\n",
    "              \"LH\":[ROOT.TMVA.Types.kLikelihood,\"H:!V:TransformOutput:PDFInterpol=Spline2:NSmoothSig[0]=20:NSmoothBkg[0]=20:NSmoothBkg[1]=10:NSmooth=1:NAvEvtPerBin=50:VarTransform=Decorrelate\"],\n",
    "              #\"PyGTB\": [ROOT.TMVA.Types.kPyGTB,\"!V:NEstimators=850:NJobs=4\"],\n",
    "              \"PyAda\": [ROOT.TMVA.Types.kPyAdaBoost,\"!V:NEstimators=1000\"],\n",
    "              \"PyForest\": [ROOT.TMVA.Types.kPyRandomForest, \"!V:VarTransform=None:NEstimators=850:Criterion=gini:MaxFeatures=auto:MaxDepth=4:MinSamplesLeaf=1:MinWeightFractionLeaf=0:Bootstrap=kTRUE\"]}"
   ]
  },
  {
   "cell_type": "code",
   "execution_count": null,
   "metadata": {},
   "outputs": [],
   "source": []
  },
  {
   "cell_type": "code",
   "execution_count": null,
   "metadata": {
    "scrolled": true
   },
   "outputs": [],
   "source": [
    "#method = \"DNN\"\n",
    "print(\"Number of methods = %s \\n\"%len(methodList.keys()))\n",
    "for m in methodList.keys():\n",
    "    print(\"Method: %s\"%m)\n",
    "    ROOT.TMVA.Tools.Instance()\n",
    "    ## For PYMVA methods\n",
    "    TMVA.PyMethodBase.PyInitialize();\n",
    "\n",
    "    outputFile = ROOT.TFile.Open(\"%s_%s_Classification_%s.root\"%(package, m, mass), \"RECREATE\")\n",
    "\n",
    "    factory = ROOT.TMVA.Factory(\"%s_%s_Classification\"%(package, m), outputFile,\n",
    "                          \"!V:ROC:!Silent:Color:!DrawProgressBar:AnalysisType=Classification\" )\n",
    "\n",
    "    factory.BookMethod(loader, methodList[m][0], m, methodList[m][1])\n",
    "\n",
    "    factory.TrainAllMethods();\n",
    "    factory.TestAllMethods();\n",
    "    factory.EvaluateAllMethods();\n",
    "    \n",
    "    #%jsroot on\n",
    "    #c1 = factory.GetROCCurve(loader);\n",
    "    #c1.Draw();\n",
    "    #outputFile.Close()"
   ]
  },
  {
   "cell_type": "code",
   "execution_count": null,
   "metadata": {},
   "outputs": [],
   "source": []
  }
 ],
 "metadata": {
  "kernelspec": {
   "display_name": "Python 2",
   "language": "python",
   "name": "python2"
  },
  "language_info": {
   "codemirror_mode": {
    "name": "ipython",
    "version": 2
   },
   "file_extension": ".py",
   "mimetype": "text/x-python",
   "name": "python",
   "nbconvert_exporter": "python",
   "pygments_lexer": "ipython2",
   "version": "2.7.14+"
  }
 },
 "nbformat": 4,
 "nbformat_minor": 4
}
