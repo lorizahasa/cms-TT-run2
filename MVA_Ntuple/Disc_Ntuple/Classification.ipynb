{
 "cells": [
  {
   "cell_type": "code",
   "execution_count": null,
   "metadata": {},
   "outputs": [],
   "source": [
    "import ROOT\n",
    "from ROOT import TMVA"
   ]
  },
  {
   "cell_type": "code",
   "execution_count": null,
   "metadata": {},
   "outputs": [],
   "source": [
    "ROOT.TMVA.Tools.Instance()\n",
    "## For PYMVA methods\n",
    "TMVA.PyMethodBase.PyInitialize();\n",
    "\n",
    "\n",
    "outputFile = ROOT.TFile.Open(\"TT_Test.root\", \"RECREATE\")\n",
    "\n",
    "factory = ROOT.TMVA.Factory(\"TMVA_TT_Classification\", outputFile,\n",
    "                      \"!V:ROC:!Silent:Color:!DrawProgressBar:AnalysisType=Classification\" )"
   ]
  },
  {
   "cell_type": "code",
   "execution_count": null,
   "metadata": {},
   "outputs": [],
   "source": [
    "inputFileS = ROOT.TFile(\"sig_1000.root\")\n",
    "inputFileB = ROOT.TFile(\"bkg_800.root\")"
   ]
  },
  {
   "cell_type": "code",
   "execution_count": null,
   "metadata": {},
   "outputs": [],
   "source": [
    "sig = inputFileS.Get(\"AnalysisTree\")\n",
    "bkg = inputFileB.Get(\"AnalysisTree\")"
   ]
  },
  {
   "cell_type": "code",
   "execution_count": null,
   "metadata": {},
   "outputs": [],
   "source": [
    "sig.Print()"
   ]
  },
  {
   "cell_type": "code",
   "execution_count": null,
   "metadata": {},
   "outputs": [],
   "source": [
    "loader = ROOT.TMVA.DataLoader(\"dataset\")\n",
    "sigWeight = 1.0\n",
    "bkgWeight = 1.0\n",
    "loader.AddSignalTree    ( sig, sigWeight )\n",
    "loader.AddBackgroundTree( bkg, bkgWeight )\n"
   ]
  },
  {
   "cell_type": "code",
   "execution_count": null,
   "metadata": {},
   "outputs": [],
   "source": [
    "##\n",
    "loader.AddVariable(\"Reco_ht\" ,'F');\n",
    "loader.AddVariable(\"Reco_st\",'F');\n",
    "loader.AddVariable(\"Photon_et\",'F');\n",
    "loader.AddVariable(\"Reco_mass_T\" ,'F');"
   ]
  },
  {
   "cell_type": "code",
   "execution_count": null,
   "metadata": {},
   "outputs": [],
   "source": [
    "#cut1 = ROOT.TCut(\"pt_j1 > 50\")\n",
    "cut1 = ROOT.TCut(\"\")\n",
    "#loader.PrepareTrainingAndTestTree(cut1,'SplitMode=Random:NormMode=NumEvents:!V')"
   ]
  },
  {
   "cell_type": "code",
   "execution_count": null,
   "metadata": {},
   "outputs": [],
   "source": [
    "loader.SetSignalWeightExpression(\"Weight_lumi\")"
   ]
  },
  {
   "cell_type": "code",
   "execution_count": null,
   "metadata": {},
   "outputs": [],
   "source": [
    "loader.SetBackgroundWeightExpression(\"Weight_lumi\");"
   ]
  },
  {
   "cell_type": "code",
   "execution_count": null,
   "metadata": {},
   "outputs": [],
   "source": [
    "loader.PrepareTrainingAndTestTree(cut1,\"SplitMode=Random:!V\")"
   ]
  },
  {
   "cell_type": "code",
   "execution_count": null,
   "metadata": {
    "scrolled": false
   },
   "outputs": [],
   "source": [
    "factory.BookMethod(loader,TMVA.Types.kBDT, \"BDTGhiggs120\",\n",
    "                   \"!V:NTrees=800:MinNodeSize=1%:MaxDepth=4:BoostType=Grad:Shrinkage=0.02:UseBaggedBoost:\"\n",
    "                   \"BaggedSampleFraction=0.5:SeparationType=GiniIndex:nCuts=-1\");"
   ]
  },
  {
   "cell_type": "code",
   "execution_count": null,
   "metadata": {},
   "outputs": [],
   "source": [
    "#DNN model\n",
    "#inputLayoutString = \"InputLayout=1|1|21\"; \n",
    "#batchLayoutString= \"BatchLayout=1|256|21\";\n",
    "#layoutString = (\"Layout=DENSE|100|RELU,DENSE|100|RELU,DENSE|64|RELU,DENSE|64|RELU,DENSE|1|LINEAR\")     "
   ]
  },
  {
   "cell_type": "code",
   "execution_count": null,
   "metadata": {},
   "outputs": [],
   "source": [
    "##Training strategies \n",
    "## one can catenate several training strategies\n",
    "\n",
    "#training1  = \"Optimizer=ADAM,LearningRate=1e-3,Momentum=0.,Regularization=None,WeightDecay=1e-4,\"\n",
    "#training1 += \"DropConfig=0.+0.+0.+0.,MaxEpochs=30,ConvergenceSteps=10,BatchSize=256,TestRepetitions=1\"\n",
    " \n",
    "# we add regularization in the second phase\n",
    "#training2  = \"Optimizer=ADAM,LearningRate=1e-3,Momentum=0.,Regularization=L2,WeightDecay=1e-4,\"\n",
    "#training2 += \"DropConfig=0.0+0.0+0.0+0,MaxEpochs=20,ConvergenceSteps=10,BatchSize=128,TestRepetitions=1\"\n",
    "     \n",
    "            \n",
    "\n",
    "#trainingStrategyString = \"TrainingStrategy=\" + training1 ## + training2"
   ]
  },
  {
   "cell_type": "code",
   "execution_count": null,
   "metadata": {},
   "outputs": [],
   "source": [
    "## General Options.                                                                                                                                                                \n",
    "#dnnOptions = \"!H:V:ErrorStrategy=CROSSENTROPY:VarTransform=G,N:WeightInitialization=XAVIER::Architecture=CPU\"\n",
    "\n",
    "#dnnOptions +=  \":\" + inputLayoutString\n",
    "#dnnOptions +=  \":\" + batchLayoutString\n",
    "#dnnOptions +=  \":\" + layoutString\n",
    "#dnnOptions +=  \":\" + trainingStrategyString"
   ]
  },
  {
   "cell_type": "code",
   "execution_count": null,
   "metadata": {},
   "outputs": [],
   "source": [
    "#we can now book the method\n",
    "              \n",
    "#factory.BookMethod(loader, ROOT.TMVA.Types.kDL, \"DL_CPU\", dnnOptions)"
   ]
  },
  {
   "cell_type": "code",
   "execution_count": null,
   "metadata": {},
   "outputs": [],
   "source": [
    "#factory.BookMethod(loader, ROOT.TMVA.Types.kPyGTB, \"PyGTB\",\"H:!V:VarTransform=G:NEstimators=1000:LearningRate=0.01:\"\n",
    "#                                                  \"MaxDepth=4\")\n",
    "\n",
    "#factory.BookMethod(loader, ROOT.TMVA.Types.kPyRandomForest, \"PyRandomForest\",\"!V:VarTransform=G:NEstimators=400:\"\n",
    "#                          \"Criterion=gini:MaxFeatures=auto:MaxDepth=6:MinSamplesLeaf=3:MinWeightFractionLeaf=0:\"\n",
    "#                           \"Bootstrap=kTRUE\" )\n",
    "      \n",
    "#factory.BookMethod(loader, ROOT.TMVA.Types.kPyAdaBoost, \"PyAdaBoost\",\"!V:VarTransform=G:NEstimators=400\" )\n"
   ]
  },
  {
   "cell_type": "code",
   "execution_count": null,
   "metadata": {
    "scrolled": true
   },
   "outputs": [],
   "source": [
    "factory.TrainAllMethods();\n",
    "factory.TestAllMethods();\n",
    "factory.EvaluateAllMethods();"
   ]
  },
  {
   "cell_type": "code",
   "execution_count": null,
   "metadata": {},
   "outputs": [],
   "source": [
    "%jsroot on\n",
    "        \n",
    "c1 = factory.GetROCCurve(loader);\n",
    "c1.Draw();\n",
    "\n"
   ]
  },
  {
   "cell_type": "code",
   "execution_count": null,
   "metadata": {},
   "outputs": [],
   "source": [
    "#loader.DrawInputVariable(\"m_j1j2\")\n",
    "#loader.DrawCorrelationMatrix(\"Signal\")\n",
    "loader"
   ]
  },
  {
   "cell_type": "code",
   "execution_count": null,
   "metadata": {},
   "outputs": [],
   "source": [
    "help(loader)"
   ]
  },
  {
   "cell_type": "code",
   "execution_count": null,
   "metadata": {},
   "outputs": [],
   "source": [
    "keras.__version__"
   ]
  },
  {
   "cell_type": "code",
   "execution_count": null,
   "metadata": {},
   "outputs": [],
   "source": [
    "tf.__version__"
   ]
  },
  {
   "cell_type": "code",
   "execution_count": null,
   "metadata": {},
   "outputs": [],
   "source": []
  }
 ],
 "metadata": {
  "kernelspec": {
   "display_name": "Python 3",
   "language": "python",
   "name": "python3"
  },
  "language_info": {
   "codemirror_mode": {
    "name": "ipython",
    "version": 3
   },
   "file_extension": ".py",
   "mimetype": "text/x-python",
   "name": "python",
   "nbconvert_exporter": "python",
   "pygments_lexer": "ipython3",
   "version": "3.8.6"
  }
 },
 "nbformat": 4,
 "nbformat_minor": 4
}
