{
 "cells": [
  {
   "cell_type": "code",
   "execution_count": null,
   "id": "statistical-margin",
   "metadata": {},
   "outputs": [],
   "source": [
    "TMVA::Tools::Instance();"
   ]
  },
  {
   "cell_type": "code",
   "execution_count": null,
   "id": "indirect-fusion",
   "metadata": {},
   "outputs": [],
   "source": [
    "TString methodName = \"BDTGhiggs120\"\n",
    "//TString methodName = \"BDTGhiggs\""
   ]
  },
  {
   "cell_type": "code",
   "execution_count": null,
   "id": "serious-victim",
   "metadata": {},
   "outputs": [],
   "source": [
    "TFile * inputFileS = TFile::Open(\"sig_1000.root\");\n",
    "TFile * inputFileB = TFile::Open(\"bkg_800.root\");\n",
    "//TFile * inputFileD = TFile::Open(\"ntuple_muData.root\");\n",
    "//TFile * inputFileST = TFile::Open(\"all_ST.root\");"
   ]
  },
  {
   "cell_type": "code",
   "execution_count": null,
   "id": "collective-reporter",
   "metadata": {},
   "outputs": [],
   "source": [
    "auto sig_tree = (TTree*) inputFileS->Get(\"AnalysisTree\");\n",
    "auto bkg_tree = (TTree*) inputFileB->Get(\"AnalysisTree\");\n",
    "//auto ST_tree = (TTree*) inputFileST->Get(\"base/KinFit\");\n",
    "\n",
    "//auto data_tree = (TTree*) inputFileD->Get(\"base/KinFit\");\n"
   ]
  },
  {
   "cell_type": "code",
   "execution_count": null,
   "id": "restricted-disability",
   "metadata": {},
   "outputs": [],
   "source": [
    "TMVA::Reader reader( \"!Color:!Silent\" );"
   ]
  },
  {
   "cell_type": "code",
   "execution_count": null,
   "id": "flush-knock",
   "metadata": {},
   "outputs": [],
   "source": [
    "Float_t         Weight_lumi;\n",
    "Float_t         Reco_ht;\n",
    "Float_t         Reco_st;\n",
    "Float_t         Photon_et;\n",
    "Float_t         Reco_mass_T;"
   ]
  },
  {
   "cell_type": "code",
   "execution_count": null,
   "id": "adapted-southeast",
   "metadata": {
    "scrolled": true
   },
   "outputs": [],
   "source": [
    "reader.AddVariable(\"Reco_ht\",&Reco_ht);\n",
    "reader.AddVariable(\"Reco_st\",&Reco_st);\n",
    "reader.AddVariable(\"Photon_et\",&Photon_et);\n",
    "reader.AddVariable(\"Reco_mass_T\",&Reco_mass_T);"
   ]
  },
  {
   "cell_type": "code",
   "execution_count": null,
   "id": "israeli-separation",
   "metadata": {},
   "outputs": [],
   "source": []
  },
  {
   "cell_type": "code",
   "execution_count": null,
   "id": "civic-internet",
   "metadata": {},
   "outputs": [],
   "source": [
    "TString weightfile = \"dataset/weights/TMVA_TT_Classification_\" + methodName + \".weights.xml\""
   ]
  },
  {
   "cell_type": "code",
   "execution_count": null,
   "id": "right-dinner",
   "metadata": {},
   "outputs": [],
   "source": [
    "reader.BookMVA( methodName,weightfile);"
   ]
  },
  {
   "cell_type": "code",
   "execution_count": null,
   "id": "applied-control",
   "metadata": {},
   "outputs": [],
   "source": [
    "auto h1 = new TH1D(\"ttbar\",\"Classifier output on Background\",40,-1,1);\n",
    "auto h2 = new TH1D(\"higgs120\",\"Classifier output on Signal\",40,-1,1);\n",
    "//auto hd = new TH1D(\"data\",\"Classifier output on Data\",40,-1,1);\n",
    "//auto hST = new TH1D(\"ST\",\"Classifier output on ST\",40,-1,1);\n",
    "std::vector<float> vout;\n",
    "std::vector<float> vout2;\n",
    "std::vector<float> vout3;\n",
    "std::vector<float> vout4;"
   ]
  },
  {
   "cell_type": "code",
   "execution_count": null,
   "id": "known-industry",
   "metadata": {},
   "outputs": [],
   "source": [
    "auto readEvents = [&](TTree & tree, TH1 & histo) {\n",
    "    tree.SetBranchAddress(\"Weight_lumi\",&Weight_lumi);\n",
    "    tree.SetBranchAddress(\"Reco_ht\",&Reco_ht);\n",
    "    tree.SetBranchAddress(\"Reco_st\",&Reco_st);\n",
    "    tree.SetBranchAddress(\"Photon_et\",&Photon_et);\n",
    "    tree.SetBranchAddress(\"Reco_mass_T\",&Reco_mass_T);\n",
    "    vout.clear(); \n",
    "    vout.resize(tree.GetEntries());\n",
    "    for (Long64_t ievt=0; ievt < tree.GetEntries();ievt++) {\n",
    "      if (ievt%500 == 0) std::cout << \"--- ... Processing event: \" << ievt << std::endl;\n",
    "      tree.GetEntry(ievt);\n",
    "      auto output = reader.EvaluateMVA(methodName);\n",
    "      //if(output<0.4)continue;\n",
    "        histo.Fill(output,Weight_lumi);\n",
    "       //histo.Fill(m_j1j2,Weight);\n",
    "        vout[ievt] = output;  \n",
    "    }\n",
    "};"
   ]
  },
  {
   "cell_type": "code",
   "execution_count": null,
   "id": "sophisticated-chaos",
   "metadata": {},
   "outputs": [],
   "source": [
    "// read events and fill histogram\n",
    "readEvents(*bkg_tree,*h1);"
   ]
  },
  {
   "cell_type": "code",
   "execution_count": null,
   "id": "objective-happiness",
   "metadata": {},
   "outputs": [],
   "source": [
    "std::vector<float> bkg_result = vout;\n",
    "//h1->Scale(1/h1->Integral());"
   ]
  },
  {
   "cell_type": "code",
   "execution_count": null,
   "id": "functioning-uncle",
   "metadata": {},
   "outputs": [],
   "source": [
    "//h1->Scale(1/0.1215);\n",
    "h1->Draw();\n",
    "h1->SetLineStyle(1);\n",
    "gPad->Draw();\n",
    "\n",
    "\n",
    "gStyle->SetOptStat(1111111);"
   ]
  },
  {
   "cell_type": "code",
   "execution_count": null,
   "id": "municipal-taylor",
   "metadata": {},
   "outputs": [],
   "source": [
    "readEvents(*sig_tree,*h2);"
   ]
  },
  {
   "cell_type": "code",
   "execution_count": null,
   "id": "confused-coalition",
   "metadata": {},
   "outputs": [],
   "source": [
    "h2->SetLineColor(kRed);\n",
    "h2->Scale(1/0.1215);\n",
    "std::vector<float> sig_result = vout;\n"
   ]
  },
  {
   "cell_type": "code",
   "execution_count": null,
   "id": "64caa3eb",
   "metadata": {},
   "outputs": [],
   "source": [
    "//readEvents(*data_tree,*hd);"
   ]
  },
  {
   "cell_type": "code",
   "execution_count": null,
   "id": "ad182a06",
   "metadata": {},
   "outputs": [],
   "source": [
    "//hd->SetLineColor(1);\n",
    "//hd->SetLineStyle(2);\n",
    "//h2->Scale(1/0.1215);\n",
    "//std::vector<float> data_result = vout;"
   ]
  },
  {
   "cell_type": "code",
   "execution_count": null,
   "id": "1bfc28ef",
   "metadata": {},
   "outputs": [],
   "source": [
    "//readEvents(*ST_tree,*hST);"
   ]
  },
  {
   "cell_type": "code",
   "execution_count": null,
   "id": "interested-fantasy",
   "metadata": {},
   "outputs": [],
   "source": [
    " //h2->Draw();\n",
    "h2->Draw(\"SAME\");\n",
    "//hST->Draw(\"SAME\");\n",
    "//hd->Draw(\"SAME\");\n",
    "\n",
    "gPad->Draw();\n",
    "gPad->BuildLegend();\n",
    "\n",
    "\n",
    "TH1F *hdata = (TH1F*)h1->Clone(\"data_obs\");\n",
    "\n"
   ]
  },
  {
   "cell_type": "code",
   "execution_count": null,
   "id": "infrared-mortgage",
   "metadata": {},
   "outputs": [],
   "source": []
  },
  {
   "cell_type": "code",
   "execution_count": null,
   "id": "proud-float",
   "metadata": {},
   "outputs": [],
   "source": [
    "//void writehistlist()\n",
    "\n",
    "   //TList *l = new TList();\n",
    "   //TH1F *h1 = new TH1F(\"h1\",\"h1\",100.,0.,1.);\n",
    "   //TH1F *h2 = new TH1F(\"h2\",\"h2\",100.,0.,1.);\n",
    "   //TH1F *h3 = new TH1F(\"h3\",\"h3\",100.,0.,1.);\n",
    "   //l->Add(h1);\n",
    "   //l->Add(h2);\n",
    "   //l->Add(h3);\n",
    "   TFile *f = new TFile(\"histlistBDT.root\",\"RECREATE\");\n",
    "   h1->Write();\n",
    "   h2->Write() ;  \n",
    "   //hd->Write();\n",
    "   f->ls();\n",
    "\n"
   ]
  },
  {
   "cell_type": "code",
   "execution_count": null,
   "id": "therapeutic-glenn",
   "metadata": {},
   "outputs": [],
   "source": [
    "f->Close();"
   ]
  },
  {
   "cell_type": "code",
   "execution_count": null,
   "id": "distant-offer",
   "metadata": {},
   "outputs": [],
   "source": []
  },
  {
   "cell_type": "code",
   "execution_count": null,
   "id": "female-willow",
   "metadata": {},
   "outputs": [],
   "source": []
  },
  {
   "cell_type": "code",
   "execution_count": null,
   "id": "elementary-amazon",
   "metadata": {},
   "outputs": [],
   "source": [
    "//b->Close();"
   ]
  },
  {
   "cell_type": "code",
   "execution_count": null,
   "id": "appropriate-retro",
   "metadata": {},
   "outputs": [],
   "source": [
    "//TFile f1(\"ntuple_bkg_ttbar.root\",\"new\");"
   ]
  },
  {
   "cell_type": "code",
   "execution_count": null,
   "id": "talented-bride",
   "metadata": {},
   "outputs": [],
   "source": [
    "//f1.Write(\"h1\")"
   ]
  },
  {
   "cell_type": "code",
   "execution_count": null,
   "id": "responsible-yemen",
   "metadata": {},
   "outputs": [],
   "source": [
    "//f1.Close()"
   ]
  },
  {
   "cell_type": "code",
   "execution_count": null,
   "id": "physical-reception",
   "metadata": {},
   "outputs": [],
   "source": [
    "//TFile f(\"histbkg.root\",\"RECREATE\");"
   ]
  },
  {
   "cell_type": "code",
   "execution_count": null,
   "id": "tender-dylan",
   "metadata": {},
   "outputs": [],
   "source": [
    "//h1->Write()"
   ]
  },
  {
   "cell_type": "code",
   "execution_count": null,
   "id": "extended-darwin",
   "metadata": {},
   "outputs": [],
   "source": [
    "//f.Close()"
   ]
  },
  {
   "cell_type": "code",
   "execution_count": null,
   "id": "unlikely-bacteria",
   "metadata": {},
   "outputs": [],
   "source": [
    "//TFile g(\"histsig.root\",\"RECREATE\");"
   ]
  },
  {
   "cell_type": "code",
   "execution_count": null,
   "id": "final-stanford",
   "metadata": {},
   "outputs": [],
   "source": [
    "//h2->Write()"
   ]
  },
  {
   "cell_type": "code",
   "execution_count": null,
   "id": "purple-despite",
   "metadata": {},
   "outputs": [],
   "source": [
    "//g.Close()"
   ]
  },
  {
   "cell_type": "code",
   "execution_count": null,
   "id": "adopted-mixer",
   "metadata": {},
   "outputs": [],
   "source": [
    "// TFile f(\"ntuple_bkg_ttbar.root\",\"new\");"
   ]
  },
  {
   "cell_type": "code",
   "execution_count": null,
   "id": "narrow-extension",
   "metadata": {},
   "outputs": [],
   "source": [
    "TMVA::ROCCurve roc(sig_result, bkg_result);\n",
    "TGraph *  roc_graph  = roc.GetROCCurve(); \n",
    "roc_graph->Draw(\"AL\");"
   ]
  },
  {
   "cell_type": "code",
   "execution_count": null,
   "id": "rolled-imagination",
   "metadata": {},
   "outputs": [],
   "source": [
    "gPad->Draw();\n",
    "std::cout << \"ROC integral = \" << roc.GetROCIntegral() << std::endl;"
   ]
  },
  {
   "cell_type": "code",
   "execution_count": null,
   "id": "a1906775",
   "metadata": {},
   "outputs": [],
   "source": []
  },
  {
   "cell_type": "code",
   "execution_count": null,
   "id": "084f4060",
   "metadata": {},
   "outputs": [],
   "source": []
  },
  {
   "cell_type": "code",
   "execution_count": null,
   "id": "ec838419",
   "metadata": {},
   "outputs": [],
   "source": []
  },
  {
   "cell_type": "code",
   "execution_count": null,
   "id": "fe39a8dc",
   "metadata": {},
   "outputs": [],
   "source": []
  },
  {
   "cell_type": "code",
   "execution_count": null,
   "id": "db8db9cc",
   "metadata": {},
   "outputs": [],
   "source": []
  },
  {
   "cell_type": "code",
   "execution_count": null,
   "id": "9aeab46b",
   "metadata": {},
   "outputs": [],
   "source": []
  },
  {
   "cell_type": "code",
   "execution_count": null,
   "id": "05212a9c",
   "metadata": {},
   "outputs": [],
   "source": [
    "\n"
   ]
  },
  {
   "cell_type": "code",
   "execution_count": null,
   "id": "bb353ba6",
   "metadata": {},
   "outputs": [],
   "source": []
  },
  {
   "cell_type": "code",
   "execution_count": null,
   "id": "7d82b9a3",
   "metadata": {},
   "outputs": [],
   "source": []
  }
 ],
 "metadata": {
  "kernelspec": {
   "display_name": "ROOT C++",
   "language": "c++",
   "name": "root"
  },
  "language_info": {
   "codemirror_mode": "text/x-c++src",
   "file_extension": ".C",
   "mimetype": " text/x-c++src",
   "name": "c++"
  }
 },
 "nbformat": 4,
 "nbformat_minor": 5
}
