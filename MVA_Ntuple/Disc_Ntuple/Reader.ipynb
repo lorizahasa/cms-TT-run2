{
 "cells": [
  {
   "cell_type": "code",
   "execution_count": null,
   "metadata": {},
   "outputs": [],
   "source": [
    "#Notebook is running in tmux\n",
    "import socket\n",
    "hostname = socket.gethostname()\n",
    "from VarInfo import GetVarInfo\n",
    "print(hostname)"
   ]
  },
  {
   "cell_type": "code",
   "execution_count": null,
   "metadata": {},
   "outputs": [],
   "source": [
    "import ROOT\n",
    "from ROOT import TMVA\n",
    "from array import array"
   ]
  },
  {
   "cell_type": "code",
   "execution_count": null,
   "metadata": {},
   "outputs": [],
   "source": [
    "#inputFileS = ROOT.TFile(\"sig_1000.root\")\n",
    "dirNtuple = \"root://cmseos.fnal.gov//store/user/rverma/Output/cms-TT-run2/Ntuple_Skim/\"\n",
    "dirFile = \"2016/Semilep/JetBase/\"\n",
    "sigFile = \"Semilep_JetBase__TstarTstarToTgammaTgluon_M800_2016_Ntuple.root\"\n",
    "inputFileS = ROOT.TFile.Open(\"%s/%s/%s\"%(dirNtuple, dirFile, sigFile))\n",
    "sig = inputFileS.Get(\"AnalysisTree\")\n",
    "\n",
    "bkg = ROOT.TChain(\"AnalysisTree\")\n",
    "bkgList = [\"TTGamma_SingleLept\", \n",
    "           \"TTGamma_Dilepton\", \n",
    "           \"TTGamma_Hadronic\", \n",
    "           \"TTGamma_SingleLept_Pt100\", \n",
    "           \"TTGamma_Dilepton_Pt100\", \n",
    "           \"TTGamma_Hadronic_Pt100\",\n",
    "           \"TTGamma_SingleLept_Pt200\", \n",
    "           \"TTGamma_Dilepton_Pt200\",\n",
    "           \"TTGamma_Hadronic_Pt200\"\n",
    "          ]\n",
    "for b in bkgList:\n",
    "    fPath = \"%s/%s/Semilep_JetBase__%s_2016_Ntuple.root\"%(dirNtuple, dirFile, b)\n",
    "    bkg.Add(fPath)\n",
    "print(bkg.GetEntries())"
   ]
  },
  {
   "cell_type": "code",
   "execution_count": null,
   "metadata": {},
   "outputs": [],
   "source": [
    "methodName = \"BDTG_mT800\"\n",
    "weightfile = \"dataset/weights/TMVA_TT_Classification_\" + methodName + \".weights.xml\"\n",
    "\n",
    "ROOT.TMVA.Tools.Instance()\n",
    "reader = TMVA.Reader(\"!Color:!Silent\")\n",
    "\n",
    "vars = GetVarInfo()\n",
    "#Convert strings to variables\n",
    "for var in vars.keys():\n",
    "    exec('%s = %s'%(var, array('f',[0])))\n",
    "    print('%s = %s'%(var, eval(var)))\n",
    "Weight_lumi = array('f',[0])\n",
    "\n",
    "for var in vars.keys():\n",
    "    reader.AddVariable(var, eval(var))\n",
    "reader.BookMVA(methodName, weightfile)"
   ]
  },
  {
   "cell_type": "code",
   "execution_count": null,
   "metadata": {
    "scrolled": true
   },
   "outputs": [],
   "source": [
    "#Declare histograms\n",
    "hSig_disc = ROOT.TH1D(\"Sig_Disc\",\"Sig_Disc\",40,-1,1)\n",
    "hBkg_disc = ROOT.TH1D(\"Bkg_Disc\",\"Bkg_Disc\",40,-1,1)\n",
    "for var in vars.keys():\n",
    "    nBins  = vars[var][1][0]\n",
    "    xMin   = vars[var][1][1]\n",
    "    xMax   = vars[var][1][2]\n",
    "    cut = [\"\", \"_cut\"]\n",
    "    for cut in cut:\n",
    "        histSig = 'ROOT.TH1D(\"Sig_%s%s\", \"Sig_%s%s\", %s, %s, %s)'%(var, cut, var, cut, nBins, xMin, xMax)\n",
    "        histBkg = 'ROOT.TH1D(\"Bkg_%s%s\", \"Bkg_%s%s\", %s, %s, %s)'%(var, cut, var, cut, nBins, xMin, xMax)\n",
    "        exec(\"hSig_%s%s = %s\"%(var, cut, histSig))\n",
    "        exec(\"hBkg_%s%s = %s\"%(var, cut, histBkg))\n",
    "        print(\"hBkg_%s%s = %s\"%(var, cut, histBkg))\n",
    "\n",
    "#Fill hists for signal\n",
    "print(\"\\nRunning for Sig...\\n\") \n",
    "for ievt, e in enumerate(sig):\n",
    "    eventSel = int(e.Event_pass_presel_mu and ((e.Jet_size>=5 and e.FatJet_size==0) or (e.Jet_size>=2 and e.FatJet_size==1))  and e.Jet_b_size >=1 and e.Photon_size==1 and e.Photon_et[0] > 100)\n",
    "    if eventSel>0:\n",
    "        for var in vars.keys():\n",
    "            exec(\"%s[0] = e.%s\"%(var, var))\n",
    "            exec(\"hSig_%s.Fill(e.%s, e.Weight_lumi)\"%(var, var))\n",
    "        disc = reader.EvaluateMVA(methodName)\n",
    "        hSig_disc.Fill(disc, e.Weight_lumi)\n",
    "        if disc>0:\n",
    "            for var in vars.keys():\n",
    "                exec(\"hSig_%s_cut.Fill(e.%s, e.Weight_lumi)\"%(var, var))\n",
    "                pass\n",
    "        if (ievt%100)==0:\n",
    "            print('Event = %i/%i, Reco_mass_T = %i, MVA output = %s'%(ievt, sig.GetEntries(), Reco_mass_T[0], disc))\n",
    "            \n",
    "#Fill hists for background\n",
    "print(\"\\nRunning for Bkg...\\n\")    \n",
    "for ievt, e in enumerate(bkg):\n",
    "    eventSel = int(e.Event_pass_presel_mu and ((e.Jet_size>=5 and e.FatJet_size==0) or (e.Jet_size>=2 and e.FatJet_size==1))  and e.Jet_b_size >=1 and e.Photon_size==1 and e.Photon_et[0] > 100)\n",
    "    if eventSel>0:\n",
    "        for var in vars.keys():\n",
    "            exec(\"%s[0] = e.%s\"%(var, var))\n",
    "            exec(\"hBkg_%s.Fill(e.%s, e.Weight_lumi)\"%(var, var))\n",
    "        disc = reader.EvaluateMVA(methodName)\n",
    "        hBkg_disc.Fill(disc, e.Weight_lumi)\n",
    "        if disc>0:\n",
    "            for var in vars.keys():\n",
    "                exec(\"hBkg_%s_cut.Fill(e.%s, e.Weight_lumi)\"%(var, var))\n",
    "        if (ievt%1000)==0:\n",
    "            print('Event = %i/%i, Reco_mass_T = %i, MVA output = %s'%(ievt, bkg.GetEntries(), Reco_mass_T[0], disc)) "
   ]
  },
  {
   "cell_type": "code",
   "execution_count": null,
   "metadata": {},
   "outputs": [],
   "source": [
    "def decoHist(hist, xTit, yTit, color):\n",
    "    hist.GetXaxis().SetTitle(xTit);\n",
    "    hist.GetYaxis().SetTitle(yTit);\n",
    "    hist.SetFillColor(color);\n",
    "    hist.GetXaxis().SetTitle(xTit);\n",
    "    hist.GetYaxis().SetTitle(yTit)\n",
    "    hist.GetYaxis().CenterTitle()\n",
    "    hist.SetLineColor(color)\n",
    "    hist.SetLineWidth(2)\n",
    "    hist.GetXaxis().SetTitleOffset(1.0)\n",
    "    hist.GetYaxis().SetTitleOffset(1.0)\n",
    "    hist.GetXaxis().SetTitleSize(0.05);\n",
    "    hist.GetYaxis().SetTitleSize(0.05);\n",
    "    hist.GetXaxis().SetTitleSize(0.05);\n",
    "    hist.GetYaxis().SetTitleSize(0.05);"
   ]
  },
  {
   "cell_type": "code",
   "execution_count": null,
   "metadata": {
    "scrolled": false
   },
   "outputs": [],
   "source": [
    "%jsroot on\n",
    "c = ROOT.TCanvas()\n",
    "ROOT.gPad.Draw()\n",
    "c.Divide(2, 2)\n",
    "for i, var in enumerate(vars.keys()):    \n",
    "    c.cd(i+1)\n",
    "    print(i, var)\n",
    "    ROOT.gPad.SetLogy(True)\n",
    "    ROOT.gStyle.SetOptStat(0)\n",
    "    exec(\"decoHist(hBkg_%s, \\\"%s\\\", \\\"Events\\\", 2)\"%(var, var))\n",
    "    exec(\"decoHist(hSig_%s, \\\"%s\\\", \\\"Events\\\", 4)\"%(var, var))\n",
    "    exec(\"hBkg_%s.Draw()\"%var)\n",
    "    exec(\"hSig_%s.Draw(\\\"SAME\\\")\"%var)\n",
    "    leg = ROOT.TLegend(0.75,0.55,0.95,0.88)\n",
    "    exec(\"leg.AddEntry(hBkg_%s, \\\"Background\\\", \\\"PEL\\\")\"%var)\n",
    "    exec(\"leg.AddEntry(hSig_%s, \\\"Signal\\\", \\\"PEL\\\")\"%var)\n",
    "    leg.Draw(\"SAME\")"
   ]
  },
  {
   "cell_type": "code",
   "execution_count": null,
   "metadata": {},
   "outputs": [],
   "source": []
  },
  {
   "cell_type": "code",
   "execution_count": null,
   "metadata": {
    "scrolled": false
   },
   "outputs": [],
   "source": [
    "%jsroot on\n",
    "c2 = ROOT.TCanvas()\n",
    "c2.cd()\n",
    "ROOT.gPad.SetLogy(True)\n",
    "ROOT.gPad.Draw()\n",
    "#hSig_disc.Scale(20)\n",
    "hBkg_disc.SetLineColor(2)\n",
    "hSig_disc.SetLineWidth(2)\n",
    "hSig_disc.GetYaxis().SetRangeUser(0, 100)\n",
    "hSig_disc.Draw()\n",
    "hBkg_disc.SetLineWidth(2)\n",
    "hBkg_disc.Draw(\"SAME\")"
   ]
  },
  {
   "cell_type": "code",
   "execution_count": null,
   "metadata": {},
   "outputs": [],
   "source": [
    "%jsroot on\n",
    "c = ROOT.TCanvas()\n",
    "ROOT.gPad.Draw()\n",
    "c.Divide(2, 2)\n",
    "for i, var in enumerate(vars.keys()):    \n",
    "    c.cd(i+1)\n",
    "    print(i, var)\n",
    "    ROOT.gPad.SetLogy(True)\n",
    "    ROOT.gStyle.SetOptStat(0)\n",
    "    exec(\"decoHist(hBkg_%s_cut, \\\"%s\\\", \\\"Events\\\", 2)\"%(var, var))\n",
    "    exec(\"decoHist(hSig_%s_cut, \\\"%s\\\", \\\"Events\\\", 4)\"%(var, var))\n",
    "    exec(\"hBkg_%s_cut.Draw()\"%var)\n",
    "    exec(\"hSig_%s_cut.Draw(\\\"SAME\\\")\"%var)\n",
    "    leg = ROOT.TLegend(0.75,0.55,0.95,0.88)\n",
    "    exec(\"leg.AddEntry(hBkg_%s_cut, \\\"Background\\\", \\\"PEL\\\")\"%var)\n",
    "    exec(\"leg.AddEntry(hSig_%s_cut, \\\"Signal\\\", \\\"PEL\\\")\"%var)\n",
    "    leg.Draw(\"SAME\")"
   ]
  },
  {
   "cell_type": "code",
   "execution_count": null,
   "metadata": {},
   "outputs": [],
   "source": []
  },
  {
   "cell_type": "code",
   "execution_count": null,
   "metadata": {},
   "outputs": [],
   "source": [
    "outputFile = ROOT.TFile(\"Disc_Ntuple.root\",\"RECREATE\")\n",
    "CR = \"ttyg_Enriched_SR\"\n",
    "def getHistDir(sample, sysType, CR):\n",
    "    histDir = \"%s/%s/%s\"%(sample, CR, sysType)\n",
    "    return histDir\n",
    "\n",
    "def writeHist(hist, procDir, outputFile):\n",
    "    outHistDir = getHistDir(procDir, \"Base\", CR)\n",
    "    if not outputFile.GetDirectory(outHistDir):\n",
    "        outputFile.mkdir(outHistDir)\n",
    "    outputFile.cd(outHistDir)\n",
    "    ROOT.gDirectory.Delete(\"%s;*\"%(hist.GetName()))\n",
    "    print \"%20s, %10s, %10s\"%(hist.GetName(), procDir, round(hist.Integral()))\n",
    "    #hNew = hist.Rebin(len(newBins)-1, histNewName, newBins) \n",
    "    #hNew.Write()\n",
    "    hist.Write()\n",
    "\n",
    "writeList = []\n",
    "writeList.append([hSig_disc, \"Sig\", \"Base\"])\n",
    "writeList.append([hBkg_disc, \"Bkg\", \"Base\"])\n",
    "\n",
    "for var in vars.keys():\n",
    "    exec(\"writeList.append([hSig_%s, \\\"Sig\\\", \\\"Base\\\"])\"%var)\n",
    "    exec(\"writeList.append([hBkg_%s, \\\"Bkg\\\", \\\"Base\\\"])\"%var)\n",
    "    exec(\"writeList.append([hSig_%s_cut, \\\"Sig\\\", \\\"Base\\\"])\"%var)\n",
    "    exec(\"writeList.append([hBkg_%s_cut, \\\"Bkg\\\", \\\"Base\\\"])\"%var)\n",
    "\n",
    "for write in writeList:\n",
    "    writeHist(write[0], write[1], outputFile)\n",
    "    if \"Bkg\" in write[1]:\n",
    "        writeHist(write[0], \"data_obs\", outputFile)\n",
    "#outputFile.ls()\n",
    "outputFile.Close()"
   ]
  },
  {
   "cell_type": "code",
   "execution_count": null,
   "metadata": {},
   "outputs": [],
   "source": []
  }
 ],
 "metadata": {
  "kernelspec": {
   "display_name": "Python 2",
   "language": "python",
   "name": "python2"
  },
  "language_info": {
   "codemirror_mode": {
    "name": "ipython",
    "version": 2
   },
   "file_extension": ".py",
   "mimetype": "text/x-python",
   "name": "python",
   "nbconvert_exporter": "python",
   "pygments_lexer": "ipython2",
   "version": "2.7.14+"
  }
 },
 "nbformat": 4,
 "nbformat_minor": 5
}
